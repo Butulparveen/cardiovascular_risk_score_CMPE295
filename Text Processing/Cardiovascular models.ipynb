{
  "nbformat": 4,
  "nbformat_minor": 0,
  "metadata": {
    "colab": {
      "provenance": []
    },
    "kernelspec": {
      "name": "python3",
      "display_name": "Python 3"
    },
    "language_info": {
      "name": "python"
    }
  },
  "cells": [
    {
      "cell_type": "code",
      "source": [
        "import pandas as pd\n",
        "\n",
        "# Load the dataset\n",
        "df = pd.read_csv('/content/cardio_train 3.csv', sep=';')\n",
        "\n",
        "# Split the dataset into X and y\n",
        "X = df.drop('cardio', axis=1)\n",
        "y = df['cardio']\n"
      ],
      "metadata": {
        "id": "HGnSYko9euge"
      },
      "execution_count": null,
      "outputs": []
    },
    {
      "cell_type": "code",
      "source": [
        "import pandas as pd\n",
        "import numpy as np\n",
        "import pickle\n",
        "from sklearn.model_selection import train_test_split\n",
        "from sklearn.ensemble import RandomForestClassifier\n",
        "from sklearn.svm import SVC\n",
        "from sklearn.tree import DecisionTreeClassifier\n",
        "from sklearn.metrics import accuracy_score, precision_score, recall_score\n",
        "\n",
        "# Load \n",
        "df = pd.read_csv('cardio_train 3.csv', sep=';')\n",
        "\n",
        "# Split \n",
        "X = df.drop('cardio', axis=1)\n",
        "y = df['cardio']\n",
        "\n",
        "#train\n",
        "X_train, X_test, y_train, y_test = train_test_split(X, y, test_size=0.2, random_state=42)\n",
        "\n",
        "# random Forest model\n",
        "rf = RandomForestClassifier(random_state=42)\n",
        "rf.fit(X_train, y_train)\n",
        "y_pred_rf = rf.predict(X_test)\n",
        "print('Random Forest Results:')\n",
        "print('Accuracy:', accuracy_score(y_test, y_pred_rf))\n",
        "print('Precision:', precision_score(y_test, y_pred_rf))\n",
        "print('Recall:', recall_score(y_test, y_pred_rf))\n",
        "\n",
        "# Support Vector Machine model\n",
        "svc = SVC(random_state=42)\n",
        "svc.fit(X_train, y_train)\n",
        "y_pred_svc = svc.predict(X_test)\n",
        "print('Support Vector Machine Results:')\n",
        "print('Accuracy:', accuracy_score(y_test, y_pred_svc))\n",
        "print('Precision:', precision_score(y_test, y_pred_svc))\n",
        "print('Recall:', recall_score(y_test, y_pred_svc))\n",
        "\n",
        "# Decision Tree model\n",
        "dt = DecisionTreeClassifier(random_state=42)\n",
        "dt.fit(X_train, y_train)\n",
        "y_pred_dt = dt.predict(X_test)\n",
        "print('Decision Tree Results:')\n",
        "print('Accuracy:', accuracy_score(y_test, y_pred_dt))\n",
        "print('Precision:', precision_score(y_test, y_pred_dt))\n",
        "print('Recall:', recall_score(y_test, y_pred_dt))\n",
        "\n",
        "# Pickle the best model\n",
        "best_model = rf\n",
        "filename = 'best_model.pkl'\n",
        "pickle.dump(best_model, open(filename, 'wb'))\n"
      ],
      "metadata": {
        "colab": {
          "base_uri": "https://localhost:8080/"
        },
        "id": "97XE9tqyf-Ah",
        "outputId": "dd0eb5c9-7437-467f-a07b-1d2a621e78b7"
      },
      "execution_count": null,
      "outputs": [
        {
          "output_type": "stream",
          "name": "stdout",
          "text": [
            "Random Forest Results:\n",
            "Accuracy: 0.7270714285714286\n",
            "Precision: 0.7398166240793627\n",
            "Recall: 0.701939532230462\n"
          ]
        }
      ]
    },
    {
      "cell_type": "code",
      "source": [
        "\n",
        "\n",
        "import pandas as pd\n",
        "import numpy as np\n",
        "import pickle\n",
        "from sklearn.model_selection import train_test_split\n",
        "from sklearn.ensemble import RandomForestClassifier\n",
        "from sklearn.svm import SVC\n",
        "from sklearn.tree import DecisionTreeClassifier\n",
        "from sklearn.metrics import accuracy_score, precision_score, recall_score\n",
        "\n",
        "# Load \n",
        "df = pd.read_csv('/content/cardio_train 3.csv', sep=';')\n",
        "\n",
        "# Split \n",
        "X = df.drop('cardio', axis=1)\n",
        "y = df['cardio']\n",
        "\n",
        "\n",
        "X_train, X_test, y_train, y_test = train_test_split(X, y, test_size=0.2, random_state=42)\n",
        "\n",
        "# Random Forest model\n",
        "rf = RandomForestClassifier(random_state=42)\n",
        "rf.fit(X_train, y_train)\n",
        "y_pred_rf = rf.predict(X_test)\n",
        "print('Random Forest Results:')\n",
        "print('Accuracy:', accuracy_score(y_test, y_pred_rf))\n",
        "print('Precision:', precision_score(y_test, y_pred_rf))\n",
        "print('Recall:', recall_score(y_test, y_pred_rf))\n",
        "\n",
        "#Support Vector Machine model\n",
        "svc = SVC(random_state=42)\n",
        "svc.fit(X_train, y_train)\n",
        "y_pred_svc = svc.predict(X_test)\n",
        "print('Support Vector Machine Results:')\n",
        "print('Accuracy:', accuracy_score(y_test, y_pred_svc))\n",
        "print('Precision:', precision_score(y_test, y_pred_svc))\n",
        "print('Recall:', recall_score(y_test, y_pred_svc))\n",
        "\n",
        "#  Decision Tree model\n",
        "dt = DecisionTreeClassifier(random_state=42)\n",
        "dt.fit(X_train, y_train)\n",
        "y_pred_dt = dt.predict(X_test)\n",
        "print('Decision Tree Results:')\n",
        "print('Accuracy:', accuracy_score(y_test, y_pred_dt))\n",
        "print('Precision:', precision_score(y_test, y_pred_dt))\n",
        "print('Recall:', recall_score(y_test, y_pred_dt))\n",
        "\n",
        "# Pickle the best model\n",
        "best_model = rf\n",
        "filename = 'best_model.pkl'\n",
        "pickle.dump(best_model, open(filename, 'wb'))\n"
      ],
      "metadata": {
        "colab": {
          "base_uri": "https://localhost:8080/"
        },
        "id": "kOTAkVLIhRDJ",
        "outputId": "c8a6e809-b7e3-403b-b3e1-a6905e7e6215"
      },
      "execution_count": null,
      "outputs": [
        {
          "output_type": "stream",
          "name": "stdout",
          "text": [
            "Random Forest Results:\n",
            "Accuracy: 0.7270714285714286\n",
            "Precision: 0.7398166240793627\n",
            "Recall: 0.701939532230462\n",
            "Support Vector Machine Results:\n",
            "Accuracy: 0.5950714285714286\n",
            "Precision: 0.5847318611987382\n",
            "Recall: 0.6608670849971477\n",
            "Decision Tree Results:\n",
            "Accuracy: 0.6354285714285715\n",
            "Precision: 0.6340640809443507\n",
            "Recall: 0.643468339988591\n"
          ]
        }
      ]
    },
    {
      "cell_type": "code",
      "source": [
        "import pandas as pd\n",
        "import numpy as np\n",
        "import pickle\n",
        "from sklearn.model_selection import train_test_split\n",
        "from sklearn.ensemble import RandomForestClassifier\n",
        "from sklearn.svm import SVC\n",
        "from sklearn.tree import DecisionTreeClassifier\n",
        "from sklearn.linear_model import LogisticRegression\n",
        "from sklearn.neural_network import MLPClassifier\n",
        "from sklearn.metrics import accuracy_score, precision_score, recall_score\n",
        "\n",
        "# Load\n",
        "df = pd.read_csv('/content/cardio_train 3.csv', sep=';')\n",
        "\n",
        "# Split\n",
        "X = df.drop('cardio', axis=1)\n",
        "y = df['cardio']\n",
        "\n",
        "X_train, X_test, y_train, y_test = train_test_split(X, y, test_size=0.2, random_state=42)\n",
        "\n",
        "# Random Forest model\n",
        "rf = RandomForestClassifier(random_state=42)\n",
        "rf.fit(X_train, y_train)\n",
        "y_pred_rf = rf.predict(X_test)\n",
        "print('Random Forest Results:')\n",
        "print('Accuracy:', accuracy_score(y_test, y_pred_rf))\n",
        "print('Precision:', precision_score(y_test, y_pred_rf))\n",
        "print('Recall:', recall_score(y_test, y_pred_rf))\n",
        "\n",
        "# Support Vector Machine model\n",
        "svc = SVC(random_state=42)\n",
        "svc.fit(X_train, y_train)\n",
        "y_pred_svc = svc.predict(X_test)\n",
        "print('Support Vector Machine Results:')\n",
        "print('Accuracy:', accuracy_score(y_test, y_pred_svc))\n",
        "print('Precision:', precision_score(y_test, y_pred_svc))\n",
        "print('Recall:', recall_score(y_test, y_pred_svc))\n",
        "\n",
        "# Decision Tree model\n",
        "dt = DecisionTreeClassifier(random_state=42)\n",
        "dt.fit(X_train, y_train)\n",
        "y_pred_dt = dt.predict(X_test)\n",
        "print('Decision Tree Results:')\n",
        "print('Accuracy:', accuracy_score(y_test, y_pred_dt))\n",
        "print('Precision:', precision_score(y_test, y_pred_dt))\n",
        "print('Recall:', recall_score(y_test, y_pred_dt))\n",
        "\n",
        "#Logistic Regression model\n",
        "lr = LogisticRegression(random_state=42)\n",
        "lr.fit(X_train, y_train)\n",
        "y_pred_lr = lr.predict(X_test)\n",
        "print('Logistic Regression Results:')\n",
        "print('Accuracy:', accuracy_score(y_test, y_pred_lr))\n",
        "print('Precision:', precision_score(y_test, y_pred_lr))\n",
        "print('Recall:', recall_score(y_test, y_pred_lr))\n",
        "\n",
        "# Multi-layer Perceptron Neural Network model\n",
        "mlp = MLPClassifier(random_state=42)\n",
        "mlp.fit(X_train, y_train)\n",
        "y_pred_mlp = mlp.predict(X_test)\n",
        "print('Multi-layer Perceptron Neural Network Results:')\n",
        "print('Accuracy:', accuracy_score(y_test, y_pred_mlp))\n",
        "print('Precision:', precision_score(y_test, y_pred_mlp))\n",
        "print('Recall:', recall_score(y_test, y_pred_mlp))\n",
        "\n",
        "# Pickle the best model\n",
        "best_model = rf\n",
        "filename = 'best_model.pkl'\n",
        "pickle.dump(best_model, open(filename, 'wb'))\n"
      ],
      "metadata": {
        "colab": {
          "base_uri": "https://localhost:8080/"
        },
        "id": "-GE6U8q5jimT",
        "outputId": "f424ce7d-c118-4db3-d576-5c5a2874cfb6"
      },
      "execution_count": null,
      "outputs": [
        {
          "output_type": "stream",
          "name": "stdout",
          "text": [
            "Random Forest Results:\n",
            "Accuracy: 0.7270714285714286\n",
            "Precision: 0.7398166240793627\n",
            "Recall: 0.701939532230462\n",
            "Support Vector Machine Results:\n",
            "Accuracy: 0.5950714285714286\n",
            "Precision: 0.5847318611987382\n",
            "Recall: 0.6608670849971477\n",
            "Decision Tree Results:\n",
            "Accuracy: 0.6354285714285715\n",
            "Precision: 0.6340640809443507\n",
            "Recall: 0.643468339988591\n",
            "Logistic Regression Results:\n",
            "Accuracy: 0.6997857142857142\n",
            "Precision: 0.7157118722162494\n",
            "Recall: 0.6645750142612664\n",
            "Multi-layer Perceptron Neural Network Results:\n",
            "Accuracy: 0.5002142857142857\n",
            "Precision: 0.8\n",
            "Recall: 0.002852253280091272\n"
          ]
        }
      ]
    }
  ]
}